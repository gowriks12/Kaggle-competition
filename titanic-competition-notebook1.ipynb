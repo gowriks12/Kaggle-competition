{
 "cells": [
  {
   "cell_type": "code",
   "execution_count": 1,
   "id": "7a18f595",
   "metadata": {
    "_cell_guid": "b1076dfc-b9ad-4769-8c92-a6c4dae69d19",
    "_uuid": "8f2839f25d086af736a60e9eeb907d3b93b6e0e5",
    "execution": {
     "iopub.execute_input": "2023-02-13T20:50:18.740964Z",
     "iopub.status.busy": "2023-02-13T20:50:18.740345Z",
     "iopub.status.idle": "2023-02-13T20:50:18.753686Z",
     "shell.execute_reply": "2023-02-13T20:50:18.752606Z"
    },
    "papermill": {
     "duration": 0.024604,
     "end_time": "2023-02-13T20:50:18.755755",
     "exception": false,
     "start_time": "2023-02-13T20:50:18.731151",
     "status": "completed"
    },
    "tags": []
   },
   "outputs": [
    {
     "name": "stdout",
     "output_type": "stream",
     "text": [
      "/kaggle/input/titanic/train.csv\n",
      "/kaggle/input/titanic/test.csv\n",
      "/kaggle/input/titanic/gender_submission.csv\n"
     ]
    }
   ],
   "source": [
    "# This Python 3 environment comes with many helpful analytics libraries installed\n",
    "# It is defined by the kaggle/python Docker image: https://github.com/kaggle/docker-python\n",
    "# For example, here's several helpful packages to load\n",
    "\n",
    "import numpy as np # linear algebra\n",
    "import pandas as pd # data processing, CSV file I/O (e.g. pd.read_csv)\n",
    "\n",
    "# Input data files are available in the read-only \"../input/\" directory\n",
    "# For example, running this (by clicking run or pressing Shift+Enter) will list all files under the input directory\n",
    "\n",
    "import os\n",
    "for dirname, _, filenames in os.walk('/kaggle/input'):\n",
    "    for filename in filenames:\n",
    "        print(os.path.join(dirname, filename))\n",
    "\n",
    "# You can write up to 20GB to the current directory (/kaggle/working/) that gets preserved as output when you create a version using \"Save & Run All\" \n",
    "# You can also write temporary files to /kaggle/temp/, but they won't be saved outside of the current session"
   ]
  },
  {
   "cell_type": "code",
   "execution_count": 2,
   "id": "64438133",
   "metadata": {
    "execution": {
     "iopub.execute_input": "2023-02-13T20:50:18.771175Z",
     "iopub.status.busy": "2023-02-13T20:50:18.770842Z",
     "iopub.status.idle": "2023-02-13T20:50:18.807311Z",
     "shell.execute_reply": "2023-02-13T20:50:18.806197Z"
    },
    "papermill": {
     "duration": 0.04712,
     "end_time": "2023-02-13T20:50:18.810050",
     "exception": false,
     "start_time": "2023-02-13T20:50:18.762930",
     "status": "completed"
    },
    "tags": []
   },
   "outputs": [],
   "source": [
    "train_df = pd.read_csv(\"/kaggle/input/titanic/train.csv\")\n",
    "test_df = pd.read_csv(\"/kaggle/input/titanic/test.csv\")"
   ]
  },
  {
   "cell_type": "code",
   "execution_count": 3,
   "id": "80d72109",
   "metadata": {
    "execution": {
     "iopub.execute_input": "2023-02-13T20:50:18.825152Z",
     "iopub.status.busy": "2023-02-13T20:50:18.824765Z",
     "iopub.status.idle": "2023-02-13T20:50:18.830259Z",
     "shell.execute_reply": "2023-02-13T20:50:18.828870Z"
    },
    "papermill": {
     "duration": 0.01594,
     "end_time": "2023-02-13T20:50:18.832700",
     "exception": false,
     "start_time": "2023-02-13T20:50:18.816760",
     "status": "completed"
    },
    "tags": []
   },
   "outputs": [
    {
     "name": "stdout",
     "output_type": "stream",
     "text": [
      "(891, 12)\n",
      "(418, 11)\n"
     ]
    }
   ],
   "source": [
    "print(train_df.shape)\n",
    "print(test_df.shape)"
   ]
  },
  {
   "cell_type": "markdown",
   "id": "fd76bcea",
   "metadata": {
    "papermill": {
     "duration": 0.006469,
     "end_time": "2023-02-13T20:50:18.846215",
     "exception": false,
     "start_time": "2023-02-13T20:50:18.839746",
     "status": "completed"
    },
    "tags": []
   },
   "source": [
    "**Cleaning Data - Missing Values Handling**"
   ]
  },
  {
   "cell_type": "code",
   "execution_count": 4,
   "id": "8424e583",
   "metadata": {
    "execution": {
     "iopub.execute_input": "2023-02-13T20:50:18.862495Z",
     "iopub.status.busy": "2023-02-13T20:50:18.862154Z",
     "iopub.status.idle": "2023-02-13T20:50:18.887981Z",
     "shell.execute_reply": "2023-02-13T20:50:18.886238Z"
    },
    "papermill": {
     "duration": 0.036754,
     "end_time": "2023-02-13T20:50:18.890593",
     "exception": false,
     "start_time": "2023-02-13T20:50:18.853839",
     "status": "completed"
    },
    "tags": []
   },
   "outputs": [
    {
     "name": "stdout",
     "output_type": "stream",
     "text": [
      "PassengerId    0\n",
      "Survived       0\n",
      "Pclass         0\n",
      "Name           0\n",
      "Sex            0\n",
      "Age            0\n",
      "SibSp          0\n",
      "Parch          0\n",
      "Ticket         0\n",
      "Fare           0\n",
      "Cabin          0\n",
      "Embarked       0\n",
      "dtype: int64\n"
     ]
    }
   ],
   "source": [
    "train_df['Age'].fillna(value = train_df['Age'].mean(), inplace=True)\n",
    "train_df['Cabin'].fillna(value = 'N1', inplace=True)\n",
    "train_df = train_df.dropna()\n",
    "train_nan_counts = train_df.isna().sum()\n",
    "print(train_nan_counts)"
   ]
  },
  {
   "cell_type": "code",
   "execution_count": 5,
   "id": "dc2a407f",
   "metadata": {
    "execution": {
     "iopub.execute_input": "2023-02-13T20:50:18.906450Z",
     "iopub.status.busy": "2023-02-13T20:50:18.905841Z",
     "iopub.status.idle": "2023-02-13T20:50:18.916573Z",
     "shell.execute_reply": "2023-02-13T20:50:18.915287Z"
    },
    "papermill": {
     "duration": 0.021566,
     "end_time": "2023-02-13T20:50:18.919807",
     "exception": false,
     "start_time": "2023-02-13T20:50:18.898241",
     "status": "completed"
    },
    "tags": []
   },
   "outputs": [
    {
     "name": "stdout",
     "output_type": "stream",
     "text": [
      "PassengerId    0\n",
      "Pclass         0\n",
      "Name           0\n",
      "Sex            0\n",
      "Age            0\n",
      "SibSp          0\n",
      "Parch          0\n",
      "Ticket         0\n",
      "Fare           0\n",
      "Cabin          0\n",
      "Embarked       0\n",
      "dtype: int64\n"
     ]
    }
   ],
   "source": [
    "# test_df['Age'].fillna(value = test_df['Age'].mean(), inplace=True)\n",
    "test_df['Cabin'].fillna(value = 'N1', inplace=True)\n",
    "test_df\n",
    "test_df = test_df.fillna(value = 0)\n",
    "test_nan_c = test_df.isna().sum()\n",
    "print(test_nan_c)"
   ]
  },
  {
   "cell_type": "code",
   "execution_count": 6,
   "id": "dc85c0a9",
   "metadata": {
    "execution": {
     "iopub.execute_input": "2023-02-13T20:50:18.935259Z",
     "iopub.status.busy": "2023-02-13T20:50:18.934969Z",
     "iopub.status.idle": "2023-02-13T20:50:18.966764Z",
     "shell.execute_reply": "2023-02-13T20:50:18.965370Z"
    },
    "papermill": {
     "duration": 0.042758,
     "end_time": "2023-02-13T20:50:18.970107",
     "exception": false,
     "start_time": "2023-02-13T20:50:18.927349",
     "status": "completed"
    },
    "tags": []
   },
   "outputs": [
    {
     "data": {
      "text/html": [
       "<div>\n",
       "<style scoped>\n",
       "    .dataframe tbody tr th:only-of-type {\n",
       "        vertical-align: middle;\n",
       "    }\n",
       "\n",
       "    .dataframe tbody tr th {\n",
       "        vertical-align: top;\n",
       "    }\n",
       "\n",
       "    .dataframe thead th {\n",
       "        text-align: right;\n",
       "    }\n",
       "</style>\n",
       "<table border=\"1\" class=\"dataframe\">\n",
       "  <thead>\n",
       "    <tr style=\"text-align: right;\">\n",
       "      <th></th>\n",
       "      <th>PassengerId</th>\n",
       "      <th>Survived</th>\n",
       "      <th>Pclass</th>\n",
       "      <th>Name</th>\n",
       "      <th>Sex</th>\n",
       "      <th>Age</th>\n",
       "      <th>SibSp</th>\n",
       "      <th>Parch</th>\n",
       "      <th>Ticket</th>\n",
       "      <th>Fare</th>\n",
       "      <th>Cabin</th>\n",
       "      <th>Embarked</th>\n",
       "    </tr>\n",
       "  </thead>\n",
       "  <tbody>\n",
       "    <tr>\n",
       "      <th>0</th>\n",
       "      <td>1</td>\n",
       "      <td>0</td>\n",
       "      <td>3</td>\n",
       "      <td>Braund, Mr. Owen Harris</td>\n",
       "      <td>male</td>\n",
       "      <td>22.000000</td>\n",
       "      <td>1</td>\n",
       "      <td>0</td>\n",
       "      <td>A/5 21171</td>\n",
       "      <td>7.2500</td>\n",
       "      <td>N1</td>\n",
       "      <td>S</td>\n",
       "    </tr>\n",
       "    <tr>\n",
       "      <th>1</th>\n",
       "      <td>2</td>\n",
       "      <td>1</td>\n",
       "      <td>1</td>\n",
       "      <td>Cumings, Mrs. John Bradley (Florence Briggs Th...</td>\n",
       "      <td>female</td>\n",
       "      <td>38.000000</td>\n",
       "      <td>1</td>\n",
       "      <td>0</td>\n",
       "      <td>PC 17599</td>\n",
       "      <td>71.2833</td>\n",
       "      <td>C85</td>\n",
       "      <td>C</td>\n",
       "    </tr>\n",
       "    <tr>\n",
       "      <th>2</th>\n",
       "      <td>3</td>\n",
       "      <td>1</td>\n",
       "      <td>3</td>\n",
       "      <td>Heikkinen, Miss. Laina</td>\n",
       "      <td>female</td>\n",
       "      <td>26.000000</td>\n",
       "      <td>0</td>\n",
       "      <td>0</td>\n",
       "      <td>STON/O2. 3101282</td>\n",
       "      <td>7.9250</td>\n",
       "      <td>N1</td>\n",
       "      <td>S</td>\n",
       "    </tr>\n",
       "    <tr>\n",
       "      <th>3</th>\n",
       "      <td>4</td>\n",
       "      <td>1</td>\n",
       "      <td>1</td>\n",
       "      <td>Futrelle, Mrs. Jacques Heath (Lily May Peel)</td>\n",
       "      <td>female</td>\n",
       "      <td>35.000000</td>\n",
       "      <td>1</td>\n",
       "      <td>0</td>\n",
       "      <td>113803</td>\n",
       "      <td>53.1000</td>\n",
       "      <td>C123</td>\n",
       "      <td>S</td>\n",
       "    </tr>\n",
       "    <tr>\n",
       "      <th>4</th>\n",
       "      <td>5</td>\n",
       "      <td>0</td>\n",
       "      <td>3</td>\n",
       "      <td>Allen, Mr. William Henry</td>\n",
       "      <td>male</td>\n",
       "      <td>35.000000</td>\n",
       "      <td>0</td>\n",
       "      <td>0</td>\n",
       "      <td>373450</td>\n",
       "      <td>8.0500</td>\n",
       "      <td>N1</td>\n",
       "      <td>S</td>\n",
       "    </tr>\n",
       "    <tr>\n",
       "      <th>...</th>\n",
       "      <td>...</td>\n",
       "      <td>...</td>\n",
       "      <td>...</td>\n",
       "      <td>...</td>\n",
       "      <td>...</td>\n",
       "      <td>...</td>\n",
       "      <td>...</td>\n",
       "      <td>...</td>\n",
       "      <td>...</td>\n",
       "      <td>...</td>\n",
       "      <td>...</td>\n",
       "      <td>...</td>\n",
       "    </tr>\n",
       "    <tr>\n",
       "      <th>886</th>\n",
       "      <td>887</td>\n",
       "      <td>0</td>\n",
       "      <td>2</td>\n",
       "      <td>Montvila, Rev. Juozas</td>\n",
       "      <td>male</td>\n",
       "      <td>27.000000</td>\n",
       "      <td>0</td>\n",
       "      <td>0</td>\n",
       "      <td>211536</td>\n",
       "      <td>13.0000</td>\n",
       "      <td>N1</td>\n",
       "      <td>S</td>\n",
       "    </tr>\n",
       "    <tr>\n",
       "      <th>887</th>\n",
       "      <td>888</td>\n",
       "      <td>1</td>\n",
       "      <td>1</td>\n",
       "      <td>Graham, Miss. Margaret Edith</td>\n",
       "      <td>female</td>\n",
       "      <td>19.000000</td>\n",
       "      <td>0</td>\n",
       "      <td>0</td>\n",
       "      <td>112053</td>\n",
       "      <td>30.0000</td>\n",
       "      <td>B42</td>\n",
       "      <td>S</td>\n",
       "    </tr>\n",
       "    <tr>\n",
       "      <th>888</th>\n",
       "      <td>889</td>\n",
       "      <td>0</td>\n",
       "      <td>3</td>\n",
       "      <td>Johnston, Miss. Catherine Helen \"Carrie\"</td>\n",
       "      <td>female</td>\n",
       "      <td>29.699118</td>\n",
       "      <td>1</td>\n",
       "      <td>2</td>\n",
       "      <td>W./C. 6607</td>\n",
       "      <td>23.4500</td>\n",
       "      <td>N1</td>\n",
       "      <td>S</td>\n",
       "    </tr>\n",
       "    <tr>\n",
       "      <th>889</th>\n",
       "      <td>890</td>\n",
       "      <td>1</td>\n",
       "      <td>1</td>\n",
       "      <td>Behr, Mr. Karl Howell</td>\n",
       "      <td>male</td>\n",
       "      <td>26.000000</td>\n",
       "      <td>0</td>\n",
       "      <td>0</td>\n",
       "      <td>111369</td>\n",
       "      <td>30.0000</td>\n",
       "      <td>C148</td>\n",
       "      <td>C</td>\n",
       "    </tr>\n",
       "    <tr>\n",
       "      <th>890</th>\n",
       "      <td>891</td>\n",
       "      <td>0</td>\n",
       "      <td>3</td>\n",
       "      <td>Dooley, Mr. Patrick</td>\n",
       "      <td>male</td>\n",
       "      <td>32.000000</td>\n",
       "      <td>0</td>\n",
       "      <td>0</td>\n",
       "      <td>370376</td>\n",
       "      <td>7.7500</td>\n",
       "      <td>N1</td>\n",
       "      <td>Q</td>\n",
       "    </tr>\n",
       "  </tbody>\n",
       "</table>\n",
       "<p>889 rows × 12 columns</p>\n",
       "</div>"
      ],
      "text/plain": [
       "     PassengerId  Survived  Pclass  \\\n",
       "0              1         0       3   \n",
       "1              2         1       1   \n",
       "2              3         1       3   \n",
       "3              4         1       1   \n",
       "4              5         0       3   \n",
       "..           ...       ...     ...   \n",
       "886          887         0       2   \n",
       "887          888         1       1   \n",
       "888          889         0       3   \n",
       "889          890         1       1   \n",
       "890          891         0       3   \n",
       "\n",
       "                                                  Name     Sex        Age  \\\n",
       "0                              Braund, Mr. Owen Harris    male  22.000000   \n",
       "1    Cumings, Mrs. John Bradley (Florence Briggs Th...  female  38.000000   \n",
       "2                               Heikkinen, Miss. Laina  female  26.000000   \n",
       "3         Futrelle, Mrs. Jacques Heath (Lily May Peel)  female  35.000000   \n",
       "4                             Allen, Mr. William Henry    male  35.000000   \n",
       "..                                                 ...     ...        ...   \n",
       "886                              Montvila, Rev. Juozas    male  27.000000   \n",
       "887                       Graham, Miss. Margaret Edith  female  19.000000   \n",
       "888           Johnston, Miss. Catherine Helen \"Carrie\"  female  29.699118   \n",
       "889                              Behr, Mr. Karl Howell    male  26.000000   \n",
       "890                                Dooley, Mr. Patrick    male  32.000000   \n",
       "\n",
       "     SibSp  Parch            Ticket     Fare Cabin Embarked  \n",
       "0        1      0         A/5 21171   7.2500    N1        S  \n",
       "1        1      0          PC 17599  71.2833   C85        C  \n",
       "2        0      0  STON/O2. 3101282   7.9250    N1        S  \n",
       "3        1      0            113803  53.1000  C123        S  \n",
       "4        0      0            373450   8.0500    N1        S  \n",
       "..     ...    ...               ...      ...   ...      ...  \n",
       "886      0      0            211536  13.0000    N1        S  \n",
       "887      0      0            112053  30.0000   B42        S  \n",
       "888      1      2        W./C. 6607  23.4500    N1        S  \n",
       "889      0      0            111369  30.0000  C148        C  \n",
       "890      0      0            370376   7.7500    N1        Q  \n",
       "\n",
       "[889 rows x 12 columns]"
      ]
     },
     "execution_count": 6,
     "metadata": {},
     "output_type": "execute_result"
    }
   ],
   "source": [
    "train_df"
   ]
  },
  {
   "cell_type": "markdown",
   "id": "58510965",
   "metadata": {
    "papermill": {
     "duration": 0.00771,
     "end_time": "2023-02-13T20:50:18.985812",
     "exception": false,
     "start_time": "2023-02-13T20:50:18.978102",
     "status": "completed"
    },
    "tags": []
   },
   "source": [
    "**Handling Categorical Data**"
   ]
  },
  {
   "cell_type": "code",
   "execution_count": 7,
   "id": "392b8580",
   "metadata": {
    "execution": {
     "iopub.execute_input": "2023-02-13T20:50:19.002284Z",
     "iopub.status.busy": "2023-02-13T20:50:19.001976Z",
     "iopub.status.idle": "2023-02-13T20:50:20.124508Z",
     "shell.execute_reply": "2023-02-13T20:50:20.123394Z"
    },
    "papermill": {
     "duration": 1.134038,
     "end_time": "2023-02-13T20:50:20.127440",
     "exception": false,
     "start_time": "2023-02-13T20:50:18.993402",
     "status": "completed"
    },
    "tags": []
   },
   "outputs": [
    {
     "data": {
      "text/html": [
       "<div>\n",
       "<style scoped>\n",
       "    .dataframe tbody tr th:only-of-type {\n",
       "        vertical-align: middle;\n",
       "    }\n",
       "\n",
       "    .dataframe tbody tr th {\n",
       "        vertical-align: top;\n",
       "    }\n",
       "\n",
       "    .dataframe thead th {\n",
       "        text-align: right;\n",
       "    }\n",
       "</style>\n",
       "<table border=\"1\" class=\"dataframe\">\n",
       "  <thead>\n",
       "    <tr style=\"text-align: right;\">\n",
       "      <th></th>\n",
       "      <th>PassengerId</th>\n",
       "      <th>Survived</th>\n",
       "      <th>Pclass</th>\n",
       "      <th>Sex</th>\n",
       "      <th>Age</th>\n",
       "      <th>SibSp</th>\n",
       "      <th>Parch</th>\n",
       "      <th>Fare</th>\n",
       "      <th>Cabin</th>\n",
       "      <th>Embarked</th>\n",
       "    </tr>\n",
       "  </thead>\n",
       "  <tbody>\n",
       "    <tr>\n",
       "      <th>0</th>\n",
       "      <td>1</td>\n",
       "      <td>0</td>\n",
       "      <td>3</td>\n",
       "      <td>0</td>\n",
       "      <td>22.0</td>\n",
       "      <td>1</td>\n",
       "      <td>0</td>\n",
       "      <td>7.2500</td>\n",
       "      <td>184</td>\n",
       "      <td>2</td>\n",
       "    </tr>\n",
       "    <tr>\n",
       "      <th>1</th>\n",
       "      <td>2</td>\n",
       "      <td>1</td>\n",
       "      <td>1</td>\n",
       "      <td>1</td>\n",
       "      <td>38.0</td>\n",
       "      <td>1</td>\n",
       "      <td>0</td>\n",
       "      <td>71.2833</td>\n",
       "      <td>105</td>\n",
       "      <td>0</td>\n",
       "    </tr>\n",
       "    <tr>\n",
       "      <th>2</th>\n",
       "      <td>3</td>\n",
       "      <td>1</td>\n",
       "      <td>3</td>\n",
       "      <td>1</td>\n",
       "      <td>26.0</td>\n",
       "      <td>0</td>\n",
       "      <td>0</td>\n",
       "      <td>7.9250</td>\n",
       "      <td>184</td>\n",
       "      <td>2</td>\n",
       "    </tr>\n",
       "    <tr>\n",
       "      <th>3</th>\n",
       "      <td>4</td>\n",
       "      <td>1</td>\n",
       "      <td>1</td>\n",
       "      <td>1</td>\n",
       "      <td>35.0</td>\n",
       "      <td>1</td>\n",
       "      <td>0</td>\n",
       "      <td>53.1000</td>\n",
       "      <td>69</td>\n",
       "      <td>2</td>\n",
       "    </tr>\n",
       "    <tr>\n",
       "      <th>4</th>\n",
       "      <td>5</td>\n",
       "      <td>0</td>\n",
       "      <td>3</td>\n",
       "      <td>0</td>\n",
       "      <td>35.0</td>\n",
       "      <td>0</td>\n",
       "      <td>0</td>\n",
       "      <td>8.0500</td>\n",
       "      <td>184</td>\n",
       "      <td>2</td>\n",
       "    </tr>\n",
       "  </tbody>\n",
       "</table>\n",
       "</div>"
      ],
      "text/plain": [
       "   PassengerId  Survived  Pclass  Sex   Age  SibSp  Parch     Fare  Cabin  \\\n",
       "0            1         0       3    0  22.0      1      0   7.2500    184   \n",
       "1            2         1       1    1  38.0      1      0  71.2833    105   \n",
       "2            3         1       3    1  26.0      0      0   7.9250    184   \n",
       "3            4         1       1    1  35.0      1      0  53.1000     69   \n",
       "4            5         0       3    0  35.0      0      0   8.0500    184   \n",
       "\n",
       "   Embarked  \n",
       "0         2  \n",
       "1         0  \n",
       "2         2  \n",
       "3         2  \n",
       "4         2  "
      ]
     },
     "execution_count": 7,
     "metadata": {},
     "output_type": "execute_result"
    }
   ],
   "source": [
    "from sklearn.preprocessing import LabelEncoder\n",
    "\n",
    "train_df.drop(columns=['Name','Ticket'], inplace=True)\n",
    "\n",
    "train_df['Sex'] = train_df['Sex'].map({'male': 0, 'female': 1})\n",
    "\n",
    "# create a LabelEncoder object\n",
    "cabin_le = LabelEncoder()\n",
    "\n",
    "# fit the LabelEncoder to the column\n",
    "cabin_le.fit(train_df['Cabin'].append(test_df['Cabin']))\n",
    "\n",
    "# transform the column to numerical labels\n",
    "train_df['Cabin'] = cabin_le.transform(train_df['Cabin'])\n",
    "\n",
    "em_le = LabelEncoder()\n",
    "\n",
    "# fit the LabelEncoder to the column\n",
    "em_le.fit(train_df['Embarked'].append(test_df['Embarked']))\n",
    "\n",
    "# transform the column to numerical labels\n",
    "train_df['Embarked'] = em_le.transform(train_df['Embarked'])\n",
    "\n",
    "train_df.head()"
   ]
  },
  {
   "cell_type": "code",
   "execution_count": 8,
   "id": "f820f0bb",
   "metadata": {
    "execution": {
     "iopub.execute_input": "2023-02-13T20:50:20.146393Z",
     "iopub.status.busy": "2023-02-13T20:50:20.146055Z",
     "iopub.status.idle": "2023-02-13T20:50:20.167052Z",
     "shell.execute_reply": "2023-02-13T20:50:20.166077Z"
    },
    "papermill": {
     "duration": 0.032358,
     "end_time": "2023-02-13T20:50:20.169139",
     "exception": false,
     "start_time": "2023-02-13T20:50:20.136781",
     "status": "completed"
    },
    "tags": []
   },
   "outputs": [
    {
     "data": {
      "text/html": [
       "<div>\n",
       "<style scoped>\n",
       "    .dataframe tbody tr th:only-of-type {\n",
       "        vertical-align: middle;\n",
       "    }\n",
       "\n",
       "    .dataframe tbody tr th {\n",
       "        vertical-align: top;\n",
       "    }\n",
       "\n",
       "    .dataframe thead th {\n",
       "        text-align: right;\n",
       "    }\n",
       "</style>\n",
       "<table border=\"1\" class=\"dataframe\">\n",
       "  <thead>\n",
       "    <tr style=\"text-align: right;\">\n",
       "      <th></th>\n",
       "      <th>PassengerId</th>\n",
       "      <th>Pclass</th>\n",
       "      <th>Sex</th>\n",
       "      <th>Age</th>\n",
       "      <th>SibSp</th>\n",
       "      <th>Parch</th>\n",
       "      <th>Fare</th>\n",
       "      <th>Cabin</th>\n",
       "      <th>Embarked</th>\n",
       "    </tr>\n",
       "  </thead>\n",
       "  <tbody>\n",
       "    <tr>\n",
       "      <th>0</th>\n",
       "      <td>892</td>\n",
       "      <td>3</td>\n",
       "      <td>0</td>\n",
       "      <td>34.5</td>\n",
       "      <td>0</td>\n",
       "      <td>0</td>\n",
       "      <td>7.8292</td>\n",
       "      <td>184</td>\n",
       "      <td>1</td>\n",
       "    </tr>\n",
       "    <tr>\n",
       "      <th>1</th>\n",
       "      <td>893</td>\n",
       "      <td>3</td>\n",
       "      <td>1</td>\n",
       "      <td>47.0</td>\n",
       "      <td>1</td>\n",
       "      <td>0</td>\n",
       "      <td>7.0000</td>\n",
       "      <td>184</td>\n",
       "      <td>2</td>\n",
       "    </tr>\n",
       "    <tr>\n",
       "      <th>2</th>\n",
       "      <td>894</td>\n",
       "      <td>2</td>\n",
       "      <td>0</td>\n",
       "      <td>62.0</td>\n",
       "      <td>0</td>\n",
       "      <td>0</td>\n",
       "      <td>9.6875</td>\n",
       "      <td>184</td>\n",
       "      <td>1</td>\n",
       "    </tr>\n",
       "    <tr>\n",
       "      <th>3</th>\n",
       "      <td>895</td>\n",
       "      <td>3</td>\n",
       "      <td>0</td>\n",
       "      <td>27.0</td>\n",
       "      <td>0</td>\n",
       "      <td>0</td>\n",
       "      <td>8.6625</td>\n",
       "      <td>184</td>\n",
       "      <td>2</td>\n",
       "    </tr>\n",
       "    <tr>\n",
       "      <th>4</th>\n",
       "      <td>896</td>\n",
       "      <td>3</td>\n",
       "      <td>1</td>\n",
       "      <td>22.0</td>\n",
       "      <td>1</td>\n",
       "      <td>1</td>\n",
       "      <td>12.2875</td>\n",
       "      <td>184</td>\n",
       "      <td>2</td>\n",
       "    </tr>\n",
       "  </tbody>\n",
       "</table>\n",
       "</div>"
      ],
      "text/plain": [
       "   PassengerId  Pclass  Sex   Age  SibSp  Parch     Fare  Cabin  Embarked\n",
       "0          892       3    0  34.5      0      0   7.8292    184         1\n",
       "1          893       3    1  47.0      1      0   7.0000    184         2\n",
       "2          894       2    0  62.0      0      0   9.6875    184         1\n",
       "3          895       3    0  27.0      0      0   8.6625    184         2\n",
       "4          896       3    1  22.0      1      1  12.2875    184         2"
      ]
     },
     "execution_count": 8,
     "metadata": {},
     "output_type": "execute_result"
    }
   ],
   "source": [
    "test_df.drop(columns=['Name','Ticket'], inplace=True)\n",
    "test_df['Sex'] = test_df['Sex'].map({'male': 0, 'female': 1})\n",
    "# create a LabelEncoder object\n",
    "# cabin_le = LabelEncoder()\n",
    "\n",
    "# fit the LabelEncoder to the column\n",
    "# cabin_le.fit(test_df['Cabin'])\n",
    "test_df['Cabin'] = cabin_le.transform(test_df['Cabin'])\n",
    "\n",
    "# em_le = LabelEncoder()\n",
    "\n",
    "# fit the LabelEncoder to the column\n",
    "# em_le.fit(test_df['Embarked'])\n",
    "test_df['Embarked'] = em_le.transform(test_df['Embarked'])\n",
    "test_df.head()"
   ]
  },
  {
   "cell_type": "code",
   "execution_count": 9,
   "id": "d6e05707",
   "metadata": {
    "execution": {
     "iopub.execute_input": "2023-02-13T20:50:20.187784Z",
     "iopub.status.busy": "2023-02-13T20:50:20.187155Z",
     "iopub.status.idle": "2023-02-13T20:50:20.202311Z",
     "shell.execute_reply": "2023-02-13T20:50:20.201502Z"
    },
    "papermill": {
     "duration": 0.026691,
     "end_time": "2023-02-13T20:50:20.204027",
     "exception": false,
     "start_time": "2023-02-13T20:50:20.177336",
     "status": "completed"
    },
    "tags": []
   },
   "outputs": [
    {
     "data": {
      "text/html": [
       "<div>\n",
       "<style scoped>\n",
       "    .dataframe tbody tr th:only-of-type {\n",
       "        vertical-align: middle;\n",
       "    }\n",
       "\n",
       "    .dataframe tbody tr th {\n",
       "        vertical-align: top;\n",
       "    }\n",
       "\n",
       "    .dataframe thead th {\n",
       "        text-align: right;\n",
       "    }\n",
       "</style>\n",
       "<table border=\"1\" class=\"dataframe\">\n",
       "  <thead>\n",
       "    <tr style=\"text-align: right;\">\n",
       "      <th></th>\n",
       "      <th>PassengerId</th>\n",
       "      <th>Pclass</th>\n",
       "      <th>Sex</th>\n",
       "      <th>Age</th>\n",
       "      <th>SibSp</th>\n",
       "      <th>Parch</th>\n",
       "      <th>Fare</th>\n",
       "      <th>Cabin</th>\n",
       "      <th>Embarked</th>\n",
       "    </tr>\n",
       "  </thead>\n",
       "  <tbody>\n",
       "    <tr>\n",
       "      <th>0</th>\n",
       "      <td>892</td>\n",
       "      <td>3</td>\n",
       "      <td>0</td>\n",
       "      <td>34.5</td>\n",
       "      <td>0</td>\n",
       "      <td>0</td>\n",
       "      <td>7.8292</td>\n",
       "      <td>184</td>\n",
       "      <td>1</td>\n",
       "    </tr>\n",
       "    <tr>\n",
       "      <th>1</th>\n",
       "      <td>893</td>\n",
       "      <td>3</td>\n",
       "      <td>1</td>\n",
       "      <td>47.0</td>\n",
       "      <td>1</td>\n",
       "      <td>0</td>\n",
       "      <td>7.0000</td>\n",
       "      <td>184</td>\n",
       "      <td>2</td>\n",
       "    </tr>\n",
       "    <tr>\n",
       "      <th>2</th>\n",
       "      <td>894</td>\n",
       "      <td>2</td>\n",
       "      <td>0</td>\n",
       "      <td>62.0</td>\n",
       "      <td>0</td>\n",
       "      <td>0</td>\n",
       "      <td>9.6875</td>\n",
       "      <td>184</td>\n",
       "      <td>1</td>\n",
       "    </tr>\n",
       "    <tr>\n",
       "      <th>3</th>\n",
       "      <td>895</td>\n",
       "      <td>3</td>\n",
       "      <td>0</td>\n",
       "      <td>27.0</td>\n",
       "      <td>0</td>\n",
       "      <td>0</td>\n",
       "      <td>8.6625</td>\n",
       "      <td>184</td>\n",
       "      <td>2</td>\n",
       "    </tr>\n",
       "    <tr>\n",
       "      <th>4</th>\n",
       "      <td>896</td>\n",
       "      <td>3</td>\n",
       "      <td>1</td>\n",
       "      <td>22.0</td>\n",
       "      <td>1</td>\n",
       "      <td>1</td>\n",
       "      <td>12.2875</td>\n",
       "      <td>184</td>\n",
       "      <td>2</td>\n",
       "    </tr>\n",
       "    <tr>\n",
       "      <th>...</th>\n",
       "      <td>...</td>\n",
       "      <td>...</td>\n",
       "      <td>...</td>\n",
       "      <td>...</td>\n",
       "      <td>...</td>\n",
       "      <td>...</td>\n",
       "      <td>...</td>\n",
       "      <td>...</td>\n",
       "      <td>...</td>\n",
       "    </tr>\n",
       "    <tr>\n",
       "      <th>413</th>\n",
       "      <td>1305</td>\n",
       "      <td>3</td>\n",
       "      <td>0</td>\n",
       "      <td>0.0</td>\n",
       "      <td>0</td>\n",
       "      <td>0</td>\n",
       "      <td>8.0500</td>\n",
       "      <td>184</td>\n",
       "      <td>2</td>\n",
       "    </tr>\n",
       "    <tr>\n",
       "      <th>414</th>\n",
       "      <td>1306</td>\n",
       "      <td>1</td>\n",
       "      <td>1</td>\n",
       "      <td>39.0</td>\n",
       "      <td>0</td>\n",
       "      <td>0</td>\n",
       "      <td>108.9000</td>\n",
       "      <td>63</td>\n",
       "      <td>0</td>\n",
       "    </tr>\n",
       "    <tr>\n",
       "      <th>415</th>\n",
       "      <td>1307</td>\n",
       "      <td>3</td>\n",
       "      <td>0</td>\n",
       "      <td>38.5</td>\n",
       "      <td>0</td>\n",
       "      <td>0</td>\n",
       "      <td>7.2500</td>\n",
       "      <td>184</td>\n",
       "      <td>2</td>\n",
       "    </tr>\n",
       "    <tr>\n",
       "      <th>416</th>\n",
       "      <td>1308</td>\n",
       "      <td>3</td>\n",
       "      <td>0</td>\n",
       "      <td>0.0</td>\n",
       "      <td>0</td>\n",
       "      <td>0</td>\n",
       "      <td>8.0500</td>\n",
       "      <td>184</td>\n",
       "      <td>2</td>\n",
       "    </tr>\n",
       "    <tr>\n",
       "      <th>417</th>\n",
       "      <td>1309</td>\n",
       "      <td>3</td>\n",
       "      <td>0</td>\n",
       "      <td>0.0</td>\n",
       "      <td>1</td>\n",
       "      <td>1</td>\n",
       "      <td>22.3583</td>\n",
       "      <td>184</td>\n",
       "      <td>0</td>\n",
       "    </tr>\n",
       "  </tbody>\n",
       "</table>\n",
       "<p>418 rows × 9 columns</p>\n",
       "</div>"
      ],
      "text/plain": [
       "     PassengerId  Pclass  Sex   Age  SibSp  Parch      Fare  Cabin  Embarked\n",
       "0            892       3    0  34.5      0      0    7.8292    184         1\n",
       "1            893       3    1  47.0      1      0    7.0000    184         2\n",
       "2            894       2    0  62.0      0      0    9.6875    184         1\n",
       "3            895       3    0  27.0      0      0    8.6625    184         2\n",
       "4            896       3    1  22.0      1      1   12.2875    184         2\n",
       "..           ...     ...  ...   ...    ...    ...       ...    ...       ...\n",
       "413         1305       3    0   0.0      0      0    8.0500    184         2\n",
       "414         1306       1    1  39.0      0      0  108.9000     63         0\n",
       "415         1307       3    0  38.5      0      0    7.2500    184         2\n",
       "416         1308       3    0   0.0      0      0    8.0500    184         2\n",
       "417         1309       3    0   0.0      1      1   22.3583    184         0\n",
       "\n",
       "[418 rows x 9 columns]"
      ]
     },
     "execution_count": 9,
     "metadata": {},
     "output_type": "execute_result"
    }
   ],
   "source": [
    "test_df"
   ]
  },
  {
   "cell_type": "markdown",
   "id": "04c0c940",
   "metadata": {
    "papermill": {
     "duration": 0.007227,
     "end_time": "2023-02-13T20:50:20.218966",
     "exception": false,
     "start_time": "2023-02-13T20:50:20.211739",
     "status": "completed"
    },
    "tags": []
   },
   "source": [
    "**Identifying important features**"
   ]
  },
  {
   "cell_type": "code",
   "execution_count": 10,
   "id": "882d2c46",
   "metadata": {
    "execution": {
     "iopub.execute_input": "2023-02-13T20:50:20.235747Z",
     "iopub.status.busy": "2023-02-13T20:50:20.235194Z",
     "iopub.status.idle": "2023-02-13T20:50:20.580437Z",
     "shell.execute_reply": "2023-02-13T20:50:20.578912Z"
    },
    "papermill": {
     "duration": 0.356366,
     "end_time": "2023-02-13T20:50:20.582852",
     "exception": false,
     "start_time": "2023-02-13T20:50:20.226486",
     "status": "completed"
    },
    "tags": []
   },
   "outputs": [],
   "source": [
    "from sklearn.ensemble import RandomForestClassifier\n",
    "from sklearn.feature_selection import mutual_info_classif\n",
    "X = train_df.drop('Survived', axis = 1)\n",
    "y = train_df['Survived']"
   ]
  },
  {
   "cell_type": "markdown",
   "id": "2a2e9910",
   "metadata": {
    "papermill": {
     "duration": 0.00736,
     "end_time": "2023-02-13T20:50:20.598526",
     "exception": false,
     "start_time": "2023-02-13T20:50:20.591166",
     "status": "completed"
    },
    "tags": []
   },
   "source": [
    "Mutual Information wise sorting"
   ]
  },
  {
   "cell_type": "code",
   "execution_count": 11,
   "id": "3ee4752a",
   "metadata": {
    "execution": {
     "iopub.execute_input": "2023-02-13T20:50:20.616114Z",
     "iopub.status.busy": "2023-02-13T20:50:20.615750Z",
     "iopub.status.idle": "2023-02-13T20:50:20.659895Z",
     "shell.execute_reply": "2023-02-13T20:50:20.658867Z"
    },
    "papermill": {
     "duration": 0.055708,
     "end_time": "2023-02-13T20:50:20.662376",
     "exception": false,
     "start_time": "2023-02-13T20:50:20.606668",
     "status": "completed"
    },
    "tags": []
   },
   "outputs": [],
   "source": [
    "# calculate the mutual information between each feature and the target\n",
    "mi = mutual_info_classif(X, y)\n",
    "\n",
    "# sort the features by mutual information\n",
    "features = X.columns\n",
    "sorted_features = [(features[i], mi[i]) for i in range(len(mi))]\n",
    "sorted_features.sort(key=lambda x: x[1], reverse=True)\n",
    "\n",
    "# select the top N most informative features\n",
    "N = 10\n",
    "important_features = [feature[0] for feature in sorted_features[:N]]\n"
   ]
  },
  {
   "cell_type": "code",
   "execution_count": 12,
   "id": "34da888f",
   "metadata": {
    "execution": {
     "iopub.execute_input": "2023-02-13T20:50:20.679771Z",
     "iopub.status.busy": "2023-02-13T20:50:20.678999Z",
     "iopub.status.idle": "2023-02-13T20:50:20.685944Z",
     "shell.execute_reply": "2023-02-13T20:50:20.683351Z"
    },
    "papermill": {
     "duration": 0.018091,
     "end_time": "2023-02-13T20:50:20.688365",
     "exception": false,
     "start_time": "2023-02-13T20:50:20.670274",
     "status": "completed"
    },
    "tags": []
   },
   "outputs": [
    {
     "name": "stdout",
     "output_type": "stream",
     "text": [
      "['Sex', 'Fare', 'Cabin', 'Pclass', 'Embarked', 'SibSp', 'Age', 'PassengerId', 'Parch']\n"
     ]
    }
   ],
   "source": [
    "print(important_features)"
   ]
  },
  {
   "cell_type": "markdown",
   "id": "2456e5b3",
   "metadata": {
    "papermill": {
     "duration": 0.007196,
     "end_time": "2023-02-13T20:50:20.703654",
     "exception": false,
     "start_time": "2023-02-13T20:50:20.696458",
     "status": "completed"
    },
    "tags": []
   },
   "source": [
    "Random Forest Classifier based sorting"
   ]
  },
  {
   "cell_type": "code",
   "execution_count": 13,
   "id": "5dd30b26",
   "metadata": {
    "execution": {
     "iopub.execute_input": "2023-02-13T20:50:20.720619Z",
     "iopub.status.busy": "2023-02-13T20:50:20.719601Z",
     "iopub.status.idle": "2023-02-13T20:50:20.922685Z",
     "shell.execute_reply": "2023-02-13T20:50:20.921137Z"
    },
    "papermill": {
     "duration": 0.214656,
     "end_time": "2023-02-13T20:50:20.925583",
     "exception": false,
     "start_time": "2023-02-13T20:50:20.710927",
     "status": "completed"
    },
    "tags": []
   },
   "outputs": [],
   "source": [
    "# train a Random Forest Classifier\n",
    "rfmodel = RandomForestClassifier()\n",
    "rfmodel.fit(X, y)\n",
    "\n",
    "# calculate the feature importance\n",
    "importance = rfmodel.feature_importances_\n",
    "\n",
    "# sort the features by importance\n",
    "features = X.columns\n",
    "sorted_features = [(features[i], importance[i]) for i in range(len(importance))]\n",
    "sorted_features.sort(key=lambda x: x[1], reverse=True)\n",
    "\n",
    "# select the top N important features\n",
    "N = 10\n",
    "important_features = [feature[0] for feature in sorted_features[:N]]"
   ]
  },
  {
   "cell_type": "code",
   "execution_count": 14,
   "id": "ece64dde",
   "metadata": {
    "execution": {
     "iopub.execute_input": "2023-02-13T20:50:20.943906Z",
     "iopub.status.busy": "2023-02-13T20:50:20.943557Z",
     "iopub.status.idle": "2023-02-13T20:50:20.948472Z",
     "shell.execute_reply": "2023-02-13T20:50:20.947462Z"
    },
    "papermill": {
     "duration": 0.016139,
     "end_time": "2023-02-13T20:50:20.950290",
     "exception": false,
     "start_time": "2023-02-13T20:50:20.934151",
     "status": "completed"
    },
    "tags": []
   },
   "outputs": [
    {
     "name": "stdout",
     "output_type": "stream",
     "text": [
      "[0.173163   0.06466569 0.24630492 0.1655081  0.03823794 0.02798209\n",
      " 0.17719183 0.07831334 0.0286331 ]\n"
     ]
    }
   ],
   "source": [
    "print(importance)"
   ]
  },
  {
   "cell_type": "markdown",
   "id": "7d946043",
   "metadata": {
    "papermill": {
     "duration": 0.008492,
     "end_time": "2023-02-13T20:50:20.966990",
     "exception": false,
     "start_time": "2023-02-13T20:50:20.958498",
     "status": "completed"
    },
    "tags": []
   },
   "source": [
    "**Keeping important and relevant features**"
   ]
  },
  {
   "cell_type": "code",
   "execution_count": 15,
   "id": "b8db31ea",
   "metadata": {
    "execution": {
     "iopub.execute_input": "2023-02-13T20:50:20.984766Z",
     "iopub.status.busy": "2023-02-13T20:50:20.984438Z",
     "iopub.status.idle": "2023-02-13T20:50:20.998127Z",
     "shell.execute_reply": "2023-02-13T20:50:20.996333Z"
    },
    "papermill": {
     "duration": 0.025405,
     "end_time": "2023-02-13T20:50:21.000541",
     "exception": false,
     "start_time": "2023-02-13T20:50:20.975136",
     "status": "completed"
    },
    "tags": []
   },
   "outputs": [
    {
     "data": {
      "text/html": [
       "<div>\n",
       "<style scoped>\n",
       "    .dataframe tbody tr th:only-of-type {\n",
       "        vertical-align: middle;\n",
       "    }\n",
       "\n",
       "    .dataframe tbody tr th {\n",
       "        vertical-align: top;\n",
       "    }\n",
       "\n",
       "    .dataframe thead th {\n",
       "        text-align: right;\n",
       "    }\n",
       "</style>\n",
       "<table border=\"1\" class=\"dataframe\">\n",
       "  <thead>\n",
       "    <tr style=\"text-align: right;\">\n",
       "      <th></th>\n",
       "      <th>PassengerId</th>\n",
       "      <th>Pclass</th>\n",
       "      <th>Sex</th>\n",
       "      <th>Age</th>\n",
       "      <th>Fare</th>\n",
       "      <th>Cabin</th>\n",
       "    </tr>\n",
       "  </thead>\n",
       "  <tbody>\n",
       "    <tr>\n",
       "      <th>0</th>\n",
       "      <td>1</td>\n",
       "      <td>3</td>\n",
       "      <td>0</td>\n",
       "      <td>22.0</td>\n",
       "      <td>7.2500</td>\n",
       "      <td>184</td>\n",
       "    </tr>\n",
       "    <tr>\n",
       "      <th>1</th>\n",
       "      <td>2</td>\n",
       "      <td>1</td>\n",
       "      <td>1</td>\n",
       "      <td>38.0</td>\n",
       "      <td>71.2833</td>\n",
       "      <td>105</td>\n",
       "    </tr>\n",
       "    <tr>\n",
       "      <th>2</th>\n",
       "      <td>3</td>\n",
       "      <td>3</td>\n",
       "      <td>1</td>\n",
       "      <td>26.0</td>\n",
       "      <td>7.9250</td>\n",
       "      <td>184</td>\n",
       "    </tr>\n",
       "    <tr>\n",
       "      <th>3</th>\n",
       "      <td>4</td>\n",
       "      <td>1</td>\n",
       "      <td>1</td>\n",
       "      <td>35.0</td>\n",
       "      <td>53.1000</td>\n",
       "      <td>69</td>\n",
       "    </tr>\n",
       "    <tr>\n",
       "      <th>4</th>\n",
       "      <td>5</td>\n",
       "      <td>3</td>\n",
       "      <td>0</td>\n",
       "      <td>35.0</td>\n",
       "      <td>8.0500</td>\n",
       "      <td>184</td>\n",
       "    </tr>\n",
       "  </tbody>\n",
       "</table>\n",
       "</div>"
      ],
      "text/plain": [
       "   PassengerId  Pclass  Sex   Age     Fare  Cabin\n",
       "0            1       3    0  22.0   7.2500    184\n",
       "1            2       1    1  38.0  71.2833    105\n",
       "2            3       3    1  26.0   7.9250    184\n",
       "3            4       1    1  35.0  53.1000     69\n",
       "4            5       3    0  35.0   8.0500    184"
      ]
     },
     "execution_count": 15,
     "metadata": {},
     "output_type": "execute_result"
    }
   ],
   "source": [
    "X1 = train_df.drop(['Survived', 'SibSp', 'Parch', 'Embarked'], axis = 1)\n",
    "X1.head()"
   ]
  },
  {
   "cell_type": "markdown",
   "id": "1f03e98a",
   "metadata": {
    "papermill": {
     "duration": 0.007741,
     "end_time": "2023-02-13T20:50:21.016321",
     "exception": false,
     "start_time": "2023-02-13T20:50:21.008580",
     "status": "completed"
    },
    "tags": []
   },
   "source": [
    "**Training With a Machine Learning Model**"
   ]
  },
  {
   "cell_type": "markdown",
   "id": "ae99a511",
   "metadata": {
    "papermill": {
     "duration": 0.007661,
     "end_time": "2023-02-13T20:50:21.032324",
     "exception": false,
     "start_time": "2023-02-13T20:50:21.024663",
     "status": "completed"
    },
    "tags": []
   },
   "source": [
    "Logistic Regression Model"
   ]
  },
  {
   "cell_type": "code",
   "execution_count": 16,
   "id": "537c1e16",
   "metadata": {
    "execution": {
     "iopub.execute_input": "2023-02-13T20:50:21.050613Z",
     "iopub.status.busy": "2023-02-13T20:50:21.050011Z",
     "iopub.status.idle": "2023-02-13T20:50:21.088687Z",
     "shell.execute_reply": "2023-02-13T20:50:21.087600Z"
    },
    "papermill": {
     "duration": 0.051027,
     "end_time": "2023-02-13T20:50:21.091107",
     "exception": false,
     "start_time": "2023-02-13T20:50:21.040080",
     "status": "completed"
    },
    "tags": []
   },
   "outputs": [
    {
     "data": {
      "text/plain": [
       "LogisticRegression(max_iter=1000)"
      ]
     },
     "execution_count": 16,
     "metadata": {},
     "output_type": "execute_result"
    }
   ],
   "source": [
    "from sklearn.linear_model import LogisticRegression\n",
    "# create a LogisticRegression object\n",
    "logreg = LogisticRegression(max_iter=1000)\n",
    "\n",
    "# fit the model to the training data\n",
    "logreg.fit(X1, y)"
   ]
  },
  {
   "cell_type": "code",
   "execution_count": 17,
   "id": "b2dc573e",
   "metadata": {
    "execution": {
     "iopub.execute_input": "2023-02-13T20:50:21.117594Z",
     "iopub.status.busy": "2023-02-13T20:50:21.115337Z",
     "iopub.status.idle": "2023-02-13T20:50:21.126961Z",
     "shell.execute_reply": "2023-02-13T20:50:21.124263Z"
    },
    "papermill": {
     "duration": 0.027703,
     "end_time": "2023-02-13T20:50:21.129583",
     "exception": false,
     "start_time": "2023-02-13T20:50:21.101880",
     "status": "completed"
    },
    "tags": []
   },
   "outputs": [
    {
     "name": "stdout",
     "output_type": "stream",
     "text": [
      "(418,)\n"
     ]
    }
   ],
   "source": [
    "testX = test_df.drop(['SibSp', 'Parch', 'Embarked'], axis = 1)\n",
    "test_pred = logreg.predict(testX)\n",
    "print(test_pred.shape)"
   ]
  },
  {
   "cell_type": "code",
   "execution_count": 18,
   "id": "2255c3dd",
   "metadata": {
    "execution": {
     "iopub.execute_input": "2023-02-13T20:50:21.148372Z",
     "iopub.status.busy": "2023-02-13T20:50:21.148033Z",
     "iopub.status.idle": "2023-02-13T20:50:21.164762Z",
     "shell.execute_reply": "2023-02-13T20:50:21.162962Z"
    },
    "papermill": {
     "duration": 0.029321,
     "end_time": "2023-02-13T20:50:21.167514",
     "exception": false,
     "start_time": "2023-02-13T20:50:21.138193",
     "status": "completed"
    },
    "tags": []
   },
   "outputs": [
    {
     "data": {
      "text/html": [
       "<div>\n",
       "<style scoped>\n",
       "    .dataframe tbody tr th:only-of-type {\n",
       "        vertical-align: middle;\n",
       "    }\n",
       "\n",
       "    .dataframe tbody tr th {\n",
       "        vertical-align: top;\n",
       "    }\n",
       "\n",
       "    .dataframe thead th {\n",
       "        text-align: right;\n",
       "    }\n",
       "</style>\n",
       "<table border=\"1\" class=\"dataframe\">\n",
       "  <thead>\n",
       "    <tr style=\"text-align: right;\">\n",
       "      <th></th>\n",
       "      <th>PassengerId</th>\n",
       "      <th>Survived</th>\n",
       "    </tr>\n",
       "  </thead>\n",
       "  <tbody>\n",
       "    <tr>\n",
       "      <th>0</th>\n",
       "      <td>892</td>\n",
       "      <td>0</td>\n",
       "    </tr>\n",
       "    <tr>\n",
       "      <th>1</th>\n",
       "      <td>893</td>\n",
       "      <td>1</td>\n",
       "    </tr>\n",
       "    <tr>\n",
       "      <th>2</th>\n",
       "      <td>894</td>\n",
       "      <td>0</td>\n",
       "    </tr>\n",
       "    <tr>\n",
       "      <th>3</th>\n",
       "      <td>895</td>\n",
       "      <td>0</td>\n",
       "    </tr>\n",
       "    <tr>\n",
       "      <th>4</th>\n",
       "      <td>896</td>\n",
       "      <td>1</td>\n",
       "    </tr>\n",
       "    <tr>\n",
       "      <th>...</th>\n",
       "      <td>...</td>\n",
       "      <td>...</td>\n",
       "    </tr>\n",
       "    <tr>\n",
       "      <th>413</th>\n",
       "      <td>1305</td>\n",
       "      <td>0</td>\n",
       "    </tr>\n",
       "    <tr>\n",
       "      <th>414</th>\n",
       "      <td>1306</td>\n",
       "      <td>1</td>\n",
       "    </tr>\n",
       "    <tr>\n",
       "      <th>415</th>\n",
       "      <td>1307</td>\n",
       "      <td>0</td>\n",
       "    </tr>\n",
       "    <tr>\n",
       "      <th>416</th>\n",
       "      <td>1308</td>\n",
       "      <td>0</td>\n",
       "    </tr>\n",
       "    <tr>\n",
       "      <th>417</th>\n",
       "      <td>1309</td>\n",
       "      <td>0</td>\n",
       "    </tr>\n",
       "  </tbody>\n",
       "</table>\n",
       "<p>418 rows × 2 columns</p>\n",
       "</div>"
      ],
      "text/plain": [
       "     PassengerId  Survived\n",
       "0            892         0\n",
       "1            893         1\n",
       "2            894         0\n",
       "3            895         0\n",
       "4            896         1\n",
       "..           ...       ...\n",
       "413         1305         0\n",
       "414         1306         1\n",
       "415         1307         0\n",
       "416         1308         0\n",
       "417         1309         0\n",
       "\n",
       "[418 rows x 2 columns]"
      ]
     },
     "execution_count": 18,
     "metadata": {},
     "output_type": "execute_result"
    }
   ],
   "source": [
    "example = pd.read_csv(\"/kaggle/input/titanic/gender_submission.csv\")\n",
    "example"
   ]
  },
  {
   "cell_type": "code",
   "execution_count": 19,
   "id": "59d0eb7c",
   "metadata": {
    "execution": {
     "iopub.execute_input": "2023-02-13T20:50:21.186791Z",
     "iopub.status.busy": "2023-02-13T20:50:21.186472Z",
     "iopub.status.idle": "2023-02-13T20:50:21.196761Z",
     "shell.execute_reply": "2023-02-13T20:50:21.194979Z"
    },
    "papermill": {
     "duration": 0.022811,
     "end_time": "2023-02-13T20:50:21.199247",
     "exception": false,
     "start_time": "2023-02-13T20:50:21.176436",
     "status": "completed"
    },
    "tags": []
   },
   "outputs": [
    {
     "name": "stdout",
     "output_type": "stream",
     "text": [
      "0.9449760765550239\n"
     ]
    }
   ],
   "source": [
    "score = logreg.score(testX, example['Survived'])\n",
    "print(score)"
   ]
  },
  {
   "cell_type": "markdown",
   "id": "b61f5368",
   "metadata": {
    "papermill": {
     "duration": 0.008584,
     "end_time": "2023-02-13T20:50:21.216894",
     "exception": false,
     "start_time": "2023-02-13T20:50:21.208310",
     "status": "completed"
    },
    "tags": []
   },
   "source": [
    "Random Forest Classifier"
   ]
  },
  {
   "cell_type": "code",
   "execution_count": 20,
   "id": "e0c2a58e",
   "metadata": {
    "execution": {
     "iopub.execute_input": "2023-02-13T20:50:21.236442Z",
     "iopub.status.busy": "2023-02-13T20:50:21.236118Z",
     "iopub.status.idle": "2023-02-13T20:50:21.271950Z",
     "shell.execute_reply": "2023-02-13T20:50:21.270747Z"
    },
    "papermill": {
     "duration": 0.048887,
     "end_time": "2023-02-13T20:50:21.274555",
     "exception": false,
     "start_time": "2023-02-13T20:50:21.225668",
     "status": "completed"
    },
    "tags": []
   },
   "outputs": [
    {
     "name": "stdout",
     "output_type": "stream",
     "text": [
      "0.7488038277511961\n"
     ]
    }
   ],
   "source": [
    "rfmodel = RandomForestClassifier(10)\n",
    "rfmodel.fit(X, y)\n",
    "rftestpred = rfmodel.predict(test_df)\n",
    "rfscore = rfmodel.score(test_df, example['Survived'])\n",
    "print(rfscore)"
   ]
  },
  {
   "cell_type": "code",
   "execution_count": 21,
   "id": "87a75cd5",
   "metadata": {
    "execution": {
     "iopub.execute_input": "2023-02-13T20:50:21.294587Z",
     "iopub.status.busy": "2023-02-13T20:50:21.294171Z",
     "iopub.status.idle": "2023-02-13T20:50:21.309702Z",
     "shell.execute_reply": "2023-02-13T20:50:21.308245Z"
    },
    "papermill": {
     "duration": 0.028595,
     "end_time": "2023-02-13T20:50:21.312240",
     "exception": false,
     "start_time": "2023-02-13T20:50:21.283645",
     "status": "completed"
    },
    "tags": []
   },
   "outputs": [
    {
     "data": {
      "text/html": [
       "<div>\n",
       "<style scoped>\n",
       "    .dataframe tbody tr th:only-of-type {\n",
       "        vertical-align: middle;\n",
       "    }\n",
       "\n",
       "    .dataframe tbody tr th {\n",
       "        vertical-align: top;\n",
       "    }\n",
       "\n",
       "    .dataframe thead th {\n",
       "        text-align: right;\n",
       "    }\n",
       "</style>\n",
       "<table border=\"1\" class=\"dataframe\">\n",
       "  <thead>\n",
       "    <tr style=\"text-align: right;\">\n",
       "      <th></th>\n",
       "      <th>PassengerId</th>\n",
       "      <th>Survived</th>\n",
       "    </tr>\n",
       "  </thead>\n",
       "  <tbody>\n",
       "    <tr>\n",
       "      <th>0</th>\n",
       "      <td>892</td>\n",
       "      <td>0</td>\n",
       "    </tr>\n",
       "    <tr>\n",
       "      <th>1</th>\n",
       "      <td>893</td>\n",
       "      <td>0</td>\n",
       "    </tr>\n",
       "    <tr>\n",
       "      <th>2</th>\n",
       "      <td>894</td>\n",
       "      <td>0</td>\n",
       "    </tr>\n",
       "    <tr>\n",
       "      <th>3</th>\n",
       "      <td>895</td>\n",
       "      <td>0</td>\n",
       "    </tr>\n",
       "    <tr>\n",
       "      <th>4</th>\n",
       "      <td>896</td>\n",
       "      <td>0</td>\n",
       "    </tr>\n",
       "  </tbody>\n",
       "</table>\n",
       "</div>"
      ],
      "text/plain": [
       "   PassengerId  Survived\n",
       "0          892         0\n",
       "1          893         0\n",
       "2          894         0\n",
       "3          895         0\n",
       "4          896         0"
      ]
     },
     "execution_count": 21,
     "metadata": {},
     "output_type": "execute_result"
    }
   ],
   "source": [
    "submission_df = pd.DataFrame()\n",
    "submission_df['PassengerId'] = test_df['PassengerId']\n",
    "# submission_df['Survived'] = test_pred\n",
    "submission_df['Survived'] = rftestpred\n",
    "submission_df.head()"
   ]
  },
  {
   "cell_type": "code",
   "execution_count": 22,
   "id": "2675dafc",
   "metadata": {
    "execution": {
     "iopub.execute_input": "2023-02-13T20:50:21.330966Z",
     "iopub.status.busy": "2023-02-13T20:50:21.330590Z",
     "iopub.status.idle": "2023-02-13T20:50:21.340596Z",
     "shell.execute_reply": "2023-02-13T20:50:21.339051Z"
    },
    "papermill": {
     "duration": 0.022339,
     "end_time": "2023-02-13T20:50:21.343245",
     "exception": false,
     "start_time": "2023-02-13T20:50:21.320906",
     "status": "completed"
    },
    "tags": []
   },
   "outputs": [],
   "source": [
    "submission_df.to_csv('submission.csv', index=False)"
   ]
  },
  {
   "cell_type": "code",
   "execution_count": 23,
   "id": "8cdbc360",
   "metadata": {
    "execution": {
     "iopub.execute_input": "2023-02-13T20:50:21.363461Z",
     "iopub.status.busy": "2023-02-13T20:50:21.363091Z",
     "iopub.status.idle": "2023-02-13T20:50:21.377091Z",
     "shell.execute_reply": "2023-02-13T20:50:21.375872Z"
    },
    "papermill": {
     "duration": 0.026248,
     "end_time": "2023-02-13T20:50:21.379032",
     "exception": false,
     "start_time": "2023-02-13T20:50:21.352784",
     "status": "completed"
    },
    "tags": []
   },
   "outputs": [
    {
     "data": {
      "text/html": [
       "<div>\n",
       "<style scoped>\n",
       "    .dataframe tbody tr th:only-of-type {\n",
       "        vertical-align: middle;\n",
       "    }\n",
       "\n",
       "    .dataframe tbody tr th {\n",
       "        vertical-align: top;\n",
       "    }\n",
       "\n",
       "    .dataframe thead th {\n",
       "        text-align: right;\n",
       "    }\n",
       "</style>\n",
       "<table border=\"1\" class=\"dataframe\">\n",
       "  <thead>\n",
       "    <tr style=\"text-align: right;\">\n",
       "      <th></th>\n",
       "      <th>PassengerId</th>\n",
       "      <th>Survived</th>\n",
       "    </tr>\n",
       "  </thead>\n",
       "  <tbody>\n",
       "    <tr>\n",
       "      <th>0</th>\n",
       "      <td>892</td>\n",
       "      <td>0</td>\n",
       "    </tr>\n",
       "    <tr>\n",
       "      <th>1</th>\n",
       "      <td>893</td>\n",
       "      <td>0</td>\n",
       "    </tr>\n",
       "    <tr>\n",
       "      <th>2</th>\n",
       "      <td>894</td>\n",
       "      <td>0</td>\n",
       "    </tr>\n",
       "    <tr>\n",
       "      <th>3</th>\n",
       "      <td>895</td>\n",
       "      <td>0</td>\n",
       "    </tr>\n",
       "    <tr>\n",
       "      <th>4</th>\n",
       "      <td>896</td>\n",
       "      <td>0</td>\n",
       "    </tr>\n",
       "    <tr>\n",
       "      <th>...</th>\n",
       "      <td>...</td>\n",
       "      <td>...</td>\n",
       "    </tr>\n",
       "    <tr>\n",
       "      <th>413</th>\n",
       "      <td>1305</td>\n",
       "      <td>1</td>\n",
       "    </tr>\n",
       "    <tr>\n",
       "      <th>414</th>\n",
       "      <td>1306</td>\n",
       "      <td>1</td>\n",
       "    </tr>\n",
       "    <tr>\n",
       "      <th>415</th>\n",
       "      <td>1307</td>\n",
       "      <td>0</td>\n",
       "    </tr>\n",
       "    <tr>\n",
       "      <th>416</th>\n",
       "      <td>1308</td>\n",
       "      <td>1</td>\n",
       "    </tr>\n",
       "    <tr>\n",
       "      <th>417</th>\n",
       "      <td>1309</td>\n",
       "      <td>1</td>\n",
       "    </tr>\n",
       "  </tbody>\n",
       "</table>\n",
       "<p>418 rows × 2 columns</p>\n",
       "</div>"
      ],
      "text/plain": [
       "     PassengerId  Survived\n",
       "0            892         0\n",
       "1            893         0\n",
       "2            894         0\n",
       "3            895         0\n",
       "4            896         0\n",
       "..           ...       ...\n",
       "413         1305         1\n",
       "414         1306         1\n",
       "415         1307         0\n",
       "416         1308         1\n",
       "417         1309         1\n",
       "\n",
       "[418 rows x 2 columns]"
      ]
     },
     "execution_count": 23,
     "metadata": {},
     "output_type": "execute_result"
    }
   ],
   "source": [
    "submission_df"
   ]
  },
  {
   "cell_type": "code",
   "execution_count": 24,
   "id": "6ab6a2cc",
   "metadata": {
    "execution": {
     "iopub.execute_input": "2023-02-13T20:50:21.398964Z",
     "iopub.status.busy": "2023-02-13T20:50:21.398602Z",
     "iopub.status.idle": "2023-02-13T20:50:21.403938Z",
     "shell.execute_reply": "2023-02-13T20:50:21.403058Z"
    },
    "papermill": {
     "duration": 0.018264,
     "end_time": "2023-02-13T20:50:21.406552",
     "exception": false,
     "start_time": "2023-02-13T20:50:21.388288",
     "status": "completed"
    },
    "tags": []
   },
   "outputs": [
    {
     "name": "stdout",
     "output_type": "stream",
     "text": [
      "(418, 2)\n"
     ]
    }
   ],
   "source": [
    "print(submission_df.shape)"
   ]
  },
  {
   "cell_type": "code",
   "execution_count": null,
   "id": "f2fbca97",
   "metadata": {
    "papermill": {
     "duration": 0.009401,
     "end_time": "2023-02-13T20:50:21.425687",
     "exception": false,
     "start_time": "2023-02-13T20:50:21.416286",
     "status": "completed"
    },
    "tags": []
   },
   "outputs": [],
   "source": []
  }
 ],
 "metadata": {
  "kernelspec": {
   "display_name": "Python 3",
   "language": "python",
   "name": "python3"
  },
  "language_info": {
   "codemirror_mode": {
    "name": "ipython",
    "version": 3
   },
   "file_extension": ".py",
   "mimetype": "text/x-python",
   "name": "python",
   "nbconvert_exporter": "python",
   "pygments_lexer": "ipython3",
   "version": "3.7.12"
  },
  "papermill": {
   "default_parameters": {},
   "duration": 11.251908,
   "end_time": "2023-02-13T20:50:22.156912",
   "environment_variables": {},
   "exception": null,
   "input_path": "__notebook__.ipynb",
   "output_path": "__notebook__.ipynb",
   "parameters": {},
   "start_time": "2023-02-13T20:50:10.905004",
   "version": "2.3.4"
  }
 },
 "nbformat": 4,
 "nbformat_minor": 5
}
